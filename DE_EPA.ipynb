{
 "cells": [
  {
   "cell_type": "code",
   "execution_count": 1,
   "metadata": {
    "ExecuteTime": {
     "end_time": "2023-05-27T10:58:01.584525Z",
     "start_time": "2023-05-27T10:58:00.867809Z"
    },
    "collapsed": true
   },
   "outputs": [],
   "source": [
    "from pyspark import SparkContext, SparkConf\n",
    "from pyspark.sql import SparkSession"
   ]
  },
  {
   "cell_type": "code",
   "execution_count": 2,
   "metadata": {
    "ExecuteTime": {
     "end_time": "2023-05-27T10:58:08.897521Z",
     "start_time": "2023-05-27T10:58:01.594516Z"
    }
   },
   "outputs": [],
   "source": [
    "sc = SparkContext.getOrCreate(SparkConf().setMaster(\"local[*]\"))\n",
    "\n",
    "spark = SparkSession \\\n",
    "    .builder \\\n",
    "    .getOrCreate()"
   ]
  },
  {
   "cell_type": "code",
   "execution_count": 3,
   "metadata": {
    "ExecuteTime": {
     "end_time": "2023-05-27T10:58:26.433347Z",
     "start_time": "2023-05-27T10:58:08.895524Z"
    }
   },
   "outputs": [],
   "source": [
    "df = spark.read.csv('point_12345.csv', inferSchema=True, header=True)"
   ]
  },
  {
   "cell_type": "code",
   "execution_count": 4,
   "metadata": {
    "ExecuteTime": {
     "end_time": "2023-05-27T10:58:26.454355Z",
     "start_time": "2023-05-27T10:58:26.437345Z"
    }
   },
   "outputs": [],
   "source": [
    "extract_cols = ['state', 'county', 'site name', 'naics description', 'site latitude',\n",
    "           'site longitude', 'city', 'pollutant desc', 'pollutant type(s)',\n",
    "           'total emissions']"
   ]
  },
  {
   "cell_type": "code",
   "execution_count": 5,
   "metadata": {
    "ExecuteTime": {
     "end_time": "2023-05-27T10:58:26.543890Z",
     "start_time": "2023-05-27T10:58:26.457344Z"
    }
   },
   "outputs": [],
   "source": [
    "edf = df.select(*extract_cols)"
   ]
  },
  {
   "cell_type": "code",
   "execution_count": 5,
   "metadata": {
    "ExecuteTime": {
     "end_time": "2023-05-27T10:58:26.558899Z",
     "start_time": "2023-05-27T10:58:26.547886Z"
    }
   },
   "outputs": [],
   "source": []
  },
  {
   "cell_type": "code",
   "execution_count": 6,
   "metadata": {
    "ExecuteTime": {
     "end_time": "2023-05-27T10:58:37.558749Z",
     "start_time": "2023-05-27T10:58:26.562905Z"
    }
   },
   "outputs": [],
   "source": [
    "df2 = spark.read.csv('point_678910.csv', inferSchema=True, header=True)"
   ]
  },
  {
   "cell_type": "code",
   "execution_count": 7,
   "metadata": {
    "ExecuteTime": {
     "end_time": "2023-05-27T10:58:37.620975Z",
     "start_time": "2023-05-27T10:58:37.562749Z"
    }
   },
   "outputs": [],
   "source": [
    "edf2 = df2.select(*extract_cols)"
   ]
  },
  {
   "cell_type": "code",
   "execution_count": 8,
   "metadata": {},
   "outputs": [
    {
     "data": {
      "text/plain": [
       "DataFrame[state: string, county: string, site name: string, naics description: string, site latitude: string, site longitude: string, city: string, pollutant desc: string, pollutant type(s): string, total emissions: string, state: string, county: string, site name: string, naics description: string, site latitude: string, site longitude: string, city: string, pollutant desc: string, pollutant type(s): string, total emissions: double]"
      ]
     },
     "execution_count": 8,
     "metadata": {},
     "output_type": "execute_result"
    }
   ],
   "source": [
    "edf.join(edf2)"
   ]
  },
  {
   "cell_type": "code",
   "execution_count": 8,
   "metadata": {
    "ExecuteTime": {
     "end_time": "2023-05-27T10:58:45.386126Z",
     "start_time": "2023-05-27T10:58:37.631965Z"
    }
   },
   "outputs": [
    {
     "data": {
      "text/plain": [
       "3481088"
      ]
     },
     "execution_count": 8,
     "metadata": {},
     "output_type": "execute_result"
    }
   ],
   "source": [
    "df.count()"
   ]
  },
  {
   "cell_type": "code",
   "execution_count": 9,
   "metadata": {
    "ExecuteTime": {
     "end_time": "2023-05-27T10:58:53.297516Z",
     "start_time": "2023-05-27T10:58:45.391660Z"
    }
   },
   "outputs": [
    {
     "data": {
      "text/plain": [
       "5528730"
      ]
     },
     "execution_count": 9,
     "metadata": {},
     "output_type": "execute_result"
    }
   ],
   "source": [
    "df2.count()"
   ]
  },
  {
   "cell_type": "code",
   "execution_count": 16,
   "metadata": {
    "ExecuteTime": {
     "end_time": "2023-05-27T11:02:29.273230Z",
     "start_time": "2023-05-27T11:02:29.136636Z"
    }
   },
   "outputs": [],
   "source": [
    "sdf = edf.union(edf2)"
   ]
  },
  {
   "cell_type": "code",
   "execution_count": 11,
   "metadata": {
    "ExecuteTime": {
     "end_time": "2023-05-27T11:02:49.708702Z",
     "start_time": "2023-05-27T11:02:34.720309Z"
    }
   },
   "outputs": [
    {
     "data": {
      "text/plain": [
       "9009818"
      ]
     },
     "execution_count": 11,
     "metadata": {},
     "output_type": "execute_result"
    }
   ],
   "source": [
    "sdf.count()"
   ]
  },
  {
   "cell_type": "code",
   "execution_count": 18,
   "metadata": {},
   "outputs": [
    {
     "data": {
      "text/plain": [
       "['state',\n",
       " 'county',\n",
       " 'site name',\n",
       " 'naics description',\n",
       " 'site latitude',\n",
       " 'site longitude',\n",
       " 'city',\n",
       " 'pollutant desc',\n",
       " 'pollutant type(s)',\n",
       " 'total emissions']"
      ]
     },
     "execution_count": 18,
     "metadata": {},
     "output_type": "execute_result"
    }
   ],
   "source": [
    "sdf.columns"
   ]
  },
  {
   "cell_type": "code",
   "execution_count": 21,
   "metadata": {},
   "outputs": [],
   "source": [
    "sdf =sdf.withColumnsRenamed({'site name':'site_name','naics description': 'industry','site latitude':'latitude',\"site longitude\":'longitude','pollutant desc':'pollutant','pollutant type(s)':'poll_ctg','total emissions':'total_emissions'})"
   ]
  },
  {
   "cell_type": "code",
   "execution_count": 37,
   "metadata": {},
   "outputs": [
    {
     "name": "stdout",
     "output_type": "stream",
     "text": [
      "+-----+----------+--------------------+--------------------+---------+----------+--------------+--------------------+--------+---------------+\n",
      "|state|    county|           site_name|            industry| latitude| longitude|          city|           pollutant|poll_ctg|total_emissions|\n",
      "+-----+----------+--------------------+--------------------+---------+----------+--------------+--------------------+--------+---------------+\n",
      "|   CT|   Windham|PLAINFIELD RENEWA...|Other Electric Po...|41.663864|-71.924373|    PLAINFIELD|Decachlorobipheny...|     HAP|    0.000754162|\n",
      "|   ME| Penobscot|COLD BROOK ENERGY...|Petroleum Bulk St...|44.779078|-68.783157|       HAMPDEN| Sulfur Hexafluoride|     GHG|              0|\n",
      "|   ME| Penobscot|       VERSANT POWER|Electric Power Di...|44.799928|-68.736942|        BANGOR| Sulfur Hexafluoride|     GHG|         0.1324|\n",
      "|   ME|Washington|NAVAL SUPPORT ACT...|   National Security|44.645007|-67.283141|        CUTLER| Sulfur Hexafluoride|     GHG|            0.4|\n",
      "|   ME|Cumberland|SAPPI NORTH AMERI...|Paper (except New...|  43.6844|  -70.3525|     WESTBROOK| Sulfur Hexafluoride|     GHG|              0|\n",
      "|   ME|  Kennebec|CENTRAL MAINE POW...|Electric Bulk Pow...|44.312561|-69.818398|       AUGUSTA| Sulfur Hexafluoride|     GHG|          0.008|\n",
      "|   ME|      York|PORTSMOUTH NAVAL ...|Ship Building and...|43.078514|-70.738214|       KITTERY| Sulfur Hexafluoride|     GHG|          1e-04|\n",
      "|   ME| Penobscot|MAINE INDEPENDENC...|Fossil Fuel Elect...|  44.8236|  -68.7106|        VEAZIE| Sulfur Hexafluoride|     GHG|              0|\n",
      "|   ME|  Franklin|PIXELLE ANDROSCOG...|Paper (except New...|  44.5047|  -70.2403|           JAY| Sulfur Hexafluoride|     GHG|              0|\n",
      "|   ME|    Oxford|HANCOCK LUMBER CO...|            Sawmills|44.410105|-70.736245|        BETHEL|      Sulfur Dioxide|     CAP|         0.0313|\n",
      "|   ME|Cumberland|TEXAS INSTRUMENTS...|Semiconductor Mac...|43.639846|-70.323814|SOUTH PORTLAND|      Sulfur Dioxide|     CAP|        2.5e-05|\n",
      "|   ME|Cumberland|TEXAS INSTRUMENTS...|Semiconductor Mac...|43.639846|-70.323814|SOUTH PORTLAND|      Sulfur Dioxide|     CAP|        0.00019|\n",
      "|   ME|Cumberland|TEXAS INSTRUMENTS...|Semiconductor Mac...|43.639846|-70.323814|SOUTH PORTLAND|      Sulfur Dioxide|     CAP|        0.00023|\n",
      "|   ME|Cumberland|TEXAS INSTRUMENTS...|Semiconductor Mac...|43.639846|-70.323814|SOUTH PORTLAND|      Sulfur Dioxide|     CAP|        4.5e-05|\n",
      "|   ME|Cumberland|TEXAS INSTRUMENTS...|Semiconductor Mac...|43.639846|-70.323814|SOUTH PORTLAND|      Sulfur Dioxide|     CAP|              0|\n",
      "|   CT| Middlesex|KLEEN ENERGY SYST...|Fossil Fuel Elect...|  41.5526|   -72.597|    MIDDLETOWN|      Sulfur Dioxide|     CAP|      0.0549439|\n",
      "|   ME|Cumberland|GLOBAL COMPANIES LLC|Petroleum Bulk St...|  43.6361|  -70.2841|SOUTH PORTLAND|      Sulfur Dioxide|     CAP|              0|\n",
      "|   ME|Cumberland|GLOBAL COMPANIES LLC|Petroleum Bulk St...|  43.6361|  -70.2841|SOUTH PORTLAND|      Sulfur Dioxide|     CAP|              0|\n",
      "|   ME|Cumberland|     BOWDOIN COLLEGE|Colleges, Univers...|43.905232|-69.965109|     BRUNSWICK|      Sulfur Dioxide|     CAP|        6.9e-05|\n",
      "|   ME|Cumberland|     BOWDOIN COLLEGE|Colleges, Univers...|43.905232|-69.965109|     BRUNSWICK|      Sulfur Dioxide|     CAP|        2.4e-05|\n",
      "+-----+----------+--------------------+--------------------+---------+----------+--------------+--------------------+--------+---------------+\n",
      "only showing top 20 rows\n",
      "\n"
     ]
    }
   ],
   "source": [
    "sdf.show()"
   ]
  },
  {
   "cell_type": "code",
   "execution_count": 22,
   "metadata": {
    "scrolled": true
   },
   "outputs": [
    {
     "data": {
      "text/plain": [
       "['state',\n",
       " 'county',\n",
       " 'site_name',\n",
       " 'industry',\n",
       " 'latitude',\n",
       " 'longitude',\n",
       " 'city',\n",
       " 'pollutant',\n",
       " 'poll_ctg',\n",
       " 'total_emissions']"
      ]
     },
     "execution_count": 22,
     "metadata": {},
     "output_type": "execute_result"
    }
   ],
   "source": [
    "sdf.columns"
   ]
  },
  {
   "cell_type": "code",
   "execution_count": null,
   "metadata": {},
   "outputs": [],
   "source": []
  },
  {
   "cell_type": "code",
   "execution_count": 23,
   "metadata": {},
   "outputs": [],
   "source": [
    "sdf.createOrReplaceTempView('df')"
   ]
  },
  {
   "cell_type": "code",
   "execution_count": 29,
   "metadata": {},
   "outputs": [
    {
     "name": "stdout",
     "output_type": "stream",
     "text": [
      "+-----+--------------------+\n",
      "|state|sum(total_emissions)|\n",
      "+-----+--------------------+\n",
      "|   TX| 4.072175716753692E8|\n",
      "|   LA|1.6087889972410706E8|\n",
      "|   FL| 1.495419340140622E8|\n",
      "|   OH| 1.245438019857818E8|\n",
      "|   IN|  1.20842531831258E8|\n",
      "|   PA|1.2036651803065033E8|\n",
      "|   AL|1.0898535269249356E8|\n",
      "|   IL|1.0374672328692727E8|\n",
      "|   CA|1.0061518869665462E8|\n",
      "|   GA| 8.919194879008561E7|\n",
      "+-----+--------------------+\n",
      "\n"
     ]
    }
   ],
   "source": [
    "spark.sql('select state, sum(total_emissions) from df group by state order by sum(total_emissions) desc limit 10').show()"
   ]
  },
  {
   "cell_type": "code",
   "execution_count": 32,
   "metadata": {},
   "outputs": [
    {
     "name": "stdout",
     "output_type": "stream",
     "text": [
      "+--------------+--------------------+\n",
      "|          city|     total_pollution|\n",
      "+--------------+--------------------+\n",
      "|    Sweetwater| 2.452315994588952E7|\n",
      "|      Cheshire| 2.062853765631697E7|\n",
      "|   PORT ARTHUR| 1.964489115416678E7|\n",
      "|       Quinton| 1.894257893232332E7|\n",
      "|       BAYTOWN|1.7745490611830156E7|\n",
      "|       LABADIE|1.7577794345713653E7|\n",
      "|      Maricopa| 1.751677938303785E7|\n",
      "|CORPUS CHRISTI|1.5637102928466367E7|\n",
      "|       HOUSTON|1.5349329664186778E7|\n",
      "|         TATUM|1.5338468926330501E7|\n",
      "+--------------+--------------------+\n",
      "\n"
     ]
    }
   ],
   "source": [
    "spark.sql('select city, sum(total_emissions) as total_pollution from df group by city order by sum(total_emissions) desc limit 10').show()"
   ]
  },
  {
   "cell_type": "code",
   "execution_count": 35,
   "metadata": {},
   "outputs": [
    {
     "name": "stdout",
     "output_type": "stream",
     "text": [
      "+-----------+--------------------+\n",
      "|     county|     total_pollution|\n",
      "+-----------+--------------------+\n",
      "|  Jefferson|1.1896568075375293E8|\n",
      "|     Harris| 6.015673890824691E7|\n",
      "| Washington| 3.587487080873698E7|\n",
      "|     Monroe| 3.356192264005195E7|\n",
      "|Los Angeles|2.7543810241346207E7|\n",
      "|       Lake|2.6823505063828953E7|\n",
      "|    Jackson|2.5787102516653806E7|\n",
      "| Sweetwater| 2.453245453371554E7|\n",
      "|    Lincoln|2.4181538905438203E7|\n",
      "|St. Charles|2.4174287421151415E7|\n",
      "+-----------+--------------------+\n",
      "\n"
     ]
    }
   ],
   "source": [
    "spark.sql('select county, sum(total_emissions) as total_pollution from df group by county order by sum(total_emissions) desc limit 10').show()"
   ]
  },
  {
   "cell_type": "code",
   "execution_count": 33,
   "metadata": {},
   "outputs": [
    {
     "name": "stdout",
     "output_type": "stream",
     "text": [
      "+--------------------+--------------------+\n",
      "|            industry|     total_pollution|\n",
      "+--------------------+--------------------+\n",
      "|Fossil Fuel Elect...|1.2503448738085728E9|\n",
      "|Electric Power Ge...| 2.023790979677431E8|\n",
      "|Petroleum Refineries|1.9407990206573215E8|\n",
      "|Electric Power Ge...| 1.049360423264049E8|\n",
      "|Paper (except New...| 8.930789223354995E7|\n",
      "|    Paperboard Mills|  7.99106389740636E7|\n",
      "|Cement Manufacturing| 7.898487027265355E7|\n",
      "|Petrochemical Man...| 6.846116048962235E7|\n",
      "|          Pulp Mills| 5.441892292423914E7|\n",
      "|Natural Gas Extra...| 5.101593366378633E7|\n",
      "+--------------------+--------------------+\n",
      "\n"
     ]
    }
   ],
   "source": [
    "spark.sql('select industry, sum(total_emissions) as total_pollution from df group by industry order by sum(total_emissions) desc limit 10').show()"
   ]
  },
  {
   "cell_type": "code",
   "execution_count": 34,
   "metadata": {},
   "outputs": [
    {
     "name": "stdout",
     "output_type": "stream",
     "text": [
      "+--------------------+--------------------+\n",
      "|           pollutant|     total_pollution|\n",
      "+--------------------+--------------------+\n",
      "|      Carbon Dioxide|2.5674802768007593E9|\n",
      "|            Methanol|1.0185947542350157E8|\n",
      "|              Hexane| 5.148554470683535E7|\n",
      "|        Formaldehyde| 5.022772788926394E7|\n",
      "|   Hydrochloric Acid|3.6396645884730265E7|\n",
      "|             Styrene| 2.841544176547743E7|\n",
      "|             Toluene| 2.824911781267032E7|\n",
      "|Xylenes (Mixed Is...|1.8893736128186546E7|\n",
      "|        Acetaldehyde|  1.87352876350081E7|\n",
      "|    Hydrogen Sulfide| 1.857908610274387E7|\n",
      "+--------------------+--------------------+\n",
      "\n"
     ]
    }
   ],
   "source": [
    "spark.sql('select pollutant, sum(total_emissions) as total_pollution from df group by pollutant order by sum(total_emissions) desc limit 10').show()"
   ]
  },
  {
   "cell_type": "code",
   "execution_count": 36,
   "metadata": {},
   "outputs": [
    {
     "name": "stdout",
     "output_type": "stream",
     "text": [
      "+--------+--------------------+\n",
      "|poll_ctg|     total_pollution|\n",
      "+--------+--------------------+\n",
      "|     GHG| 2.571921477151565E9|\n",
      "|     HAP|4.5780884460822546E8|\n",
      "|   Other| 1.915585044394754E7|\n",
      "|     CAP|   8120964.049714407|\n",
      "| CAP/HAP|   663454.0716440291|\n",
      "|    PFAS|  284.78101200000003|\n",
      "|  0.8899|                null|\n",
      "+--------+--------------------+\n",
      "\n"
     ]
    }
   ],
   "source": [
    "spark.sql('select poll_ctg, sum(total_emissions) as total_pollution from df group by poll_ctg order by sum(total_emissions) desc limit 10').show()"
   ]
  },
  {
   "cell_type": "code",
   "execution_count": null,
   "metadata": {},
   "outputs": [],
   "source": []
  }
 ],
 "metadata": {
  "kernelspec": {
   "display_name": "Python 3 (ipykernel)",
   "language": "python",
   "name": "python3"
  },
  "language_info": {
   "codemirror_mode": {
    "name": "ipython",
    "version": 3
   },
   "file_extension": ".py",
   "mimetype": "text/x-python",
   "name": "python",
   "nbconvert_exporter": "python",
   "pygments_lexer": "ipython3",
   "version": "3.10.9"
  }
 },
 "nbformat": 4,
 "nbformat_minor": 1
}
